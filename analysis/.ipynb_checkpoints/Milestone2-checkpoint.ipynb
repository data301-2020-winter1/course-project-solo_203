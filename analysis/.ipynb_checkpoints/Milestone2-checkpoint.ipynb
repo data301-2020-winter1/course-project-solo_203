{
 "cells": [
  {
   "cell_type": "code",
   "execution_count": 1,
   "metadata": {},
   "outputs": [],
   "source": [
    "import pandas as pd"
   ]
  },
  {
   "cell_type": "code",
   "execution_count": 2,
   "metadata": {},
   "outputs": [
    {
     "data": {
      "text/html": [
       "<div>\n",
       "<style scoped>\n",
       "    .dataframe tbody tr th:only-of-type {\n",
       "        vertical-align: middle;\n",
       "    }\n",
       "\n",
       "    .dataframe tbody tr th {\n",
       "        vertical-align: top;\n",
       "    }\n",
       "\n",
       "    .dataframe thead th {\n",
       "        text-align: right;\n",
       "    }\n",
       "</style>\n",
       "<table border=\"1\" class=\"dataframe\">\n",
       "  <thead>\n",
       "    <tr style=\"text-align: right;\">\n",
       "      <th></th>\n",
       "      <th>season</th>\n",
       "      <th>date</th>\n",
       "      <th>league_id</th>\n",
       "      <th>league</th>\n",
       "      <th>team1</th>\n",
       "      <th>team2</th>\n",
       "      <th>spi_homeTeam</th>\n",
       "      <th>spi_awayTeam</th>\n",
       "      <th>prob1</th>\n",
       "      <th>prob2</th>\n",
       "      <th>probtie</th>\n",
       "      <th>score_homeTeam</th>\n",
       "      <th>score_awayTeam</th>\n",
       "    </tr>\n",
       "  </thead>\n",
       "  <tbody>\n",
       "    <tr>\n",
       "      <th>0</th>\n",
       "      <td>2016</td>\n",
       "      <td>2016-07-09</td>\n",
       "      <td>7921</td>\n",
       "      <td>FA Women's Super League</td>\n",
       "      <td>Liverpool Women</td>\n",
       "      <td>Reading</td>\n",
       "      <td>51.56</td>\n",
       "      <td>50.42</td>\n",
       "      <td>0.4389</td>\n",
       "      <td>0.2767</td>\n",
       "      <td>0.2844</td>\n",
       "      <td>2.0</td>\n",
       "      <td>0.0</td>\n",
       "    </tr>\n",
       "    <tr>\n",
       "      <th>1</th>\n",
       "      <td>2016</td>\n",
       "      <td>2016-07-10</td>\n",
       "      <td>7921</td>\n",
       "      <td>FA Women's Super League</td>\n",
       "      <td>Arsenal Women</td>\n",
       "      <td>Notts County Ladies</td>\n",
       "      <td>46.61</td>\n",
       "      <td>54.03</td>\n",
       "      <td>0.3572</td>\n",
       "      <td>0.3608</td>\n",
       "      <td>0.2819</td>\n",
       "      <td>2.0</td>\n",
       "      <td>0.0</td>\n",
       "    </tr>\n",
       "    <tr>\n",
       "      <th>2</th>\n",
       "      <td>2016</td>\n",
       "      <td>2016-07-10</td>\n",
       "      <td>7921</td>\n",
       "      <td>FA Women's Super League</td>\n",
       "      <td>Chelsea FC Women</td>\n",
       "      <td>Birmingham City</td>\n",
       "      <td>59.85</td>\n",
       "      <td>54.64</td>\n",
       "      <td>0.4799</td>\n",
       "      <td>0.2487</td>\n",
       "      <td>0.2714</td>\n",
       "      <td>1.0</td>\n",
       "      <td>1.0</td>\n",
       "    </tr>\n",
       "    <tr>\n",
       "      <th>3</th>\n",
       "      <td>2016</td>\n",
       "      <td>2016-07-16</td>\n",
       "      <td>7921</td>\n",
       "      <td>FA Women's Super League</td>\n",
       "      <td>Liverpool Women</td>\n",
       "      <td>Notts County Ladies</td>\n",
       "      <td>53.00</td>\n",
       "      <td>52.35</td>\n",
       "      <td>0.4289</td>\n",
       "      <td>0.2699</td>\n",
       "      <td>0.3013</td>\n",
       "      <td>0.0</td>\n",
       "      <td>0.0</td>\n",
       "    </tr>\n",
       "    <tr>\n",
       "      <th>4</th>\n",
       "      <td>2016</td>\n",
       "      <td>2016-07-17</td>\n",
       "      <td>7921</td>\n",
       "      <td>FA Women's Super League</td>\n",
       "      <td>Chelsea FC Women</td>\n",
       "      <td>Arsenal Women</td>\n",
       "      <td>59.43</td>\n",
       "      <td>60.99</td>\n",
       "      <td>0.4124</td>\n",
       "      <td>0.3157</td>\n",
       "      <td>0.2719</td>\n",
       "      <td>1.0</td>\n",
       "      <td>2.0</td>\n",
       "    </tr>\n",
       "    <tr>\n",
       "      <th>...</th>\n",
       "      <td>...</td>\n",
       "      <td>...</td>\n",
       "      <td>...</td>\n",
       "      <td>...</td>\n",
       "      <td>...</td>\n",
       "      <td>...</td>\n",
       "      <td>...</td>\n",
       "      <td>...</td>\n",
       "      <td>...</td>\n",
       "      <td>...</td>\n",
       "      <td>...</td>\n",
       "      <td>...</td>\n",
       "      <td>...</td>\n",
       "    </tr>\n",
       "    <tr>\n",
       "      <th>21603</th>\n",
       "      <td>2018</td>\n",
       "      <td>2019-06-13</td>\n",
       "      <td>1871</td>\n",
       "      <td>Spanish Segunda Division</td>\n",
       "      <td>Mallorca</td>\n",
       "      <td>Albacete</td>\n",
       "      <td>37.68</td>\n",
       "      <td>34.35</td>\n",
       "      <td>0.4861</td>\n",
       "      <td>0.2099</td>\n",
       "      <td>0.3040</td>\n",
       "      <td>2.0</td>\n",
       "      <td>0.0</td>\n",
       "    </tr>\n",
       "    <tr>\n",
       "      <th>21604</th>\n",
       "      <td>2018</td>\n",
       "      <td>2019-06-15</td>\n",
       "      <td>1871</td>\n",
       "      <td>Spanish Segunda Division</td>\n",
       "      <td>Málaga</td>\n",
       "      <td>Deportivo La Coruña</td>\n",
       "      <td>36.60</td>\n",
       "      <td>39.91</td>\n",
       "      <td>0.4131</td>\n",
       "      <td>0.2548</td>\n",
       "      <td>0.3321</td>\n",
       "      <td>0.0</td>\n",
       "      <td>1.0</td>\n",
       "    </tr>\n",
       "    <tr>\n",
       "      <th>21605</th>\n",
       "      <td>2018</td>\n",
       "      <td>2019-06-16</td>\n",
       "      <td>1871</td>\n",
       "      <td>Spanish Segunda Division</td>\n",
       "      <td>Albacete</td>\n",
       "      <td>Mallorca</td>\n",
       "      <td>32.57</td>\n",
       "      <td>39.48</td>\n",
       "      <td>0.3764</td>\n",
       "      <td>0.3034</td>\n",
       "      <td>0.3202</td>\n",
       "      <td>1.0</td>\n",
       "      <td>0.0</td>\n",
       "    </tr>\n",
       "    <tr>\n",
       "      <th>21606</th>\n",
       "      <td>2018</td>\n",
       "      <td>2019-06-20</td>\n",
       "      <td>1871</td>\n",
       "      <td>Spanish Segunda Division</td>\n",
       "      <td>Deportivo La Coruña</td>\n",
       "      <td>Mallorca</td>\n",
       "      <td>41.55</td>\n",
       "      <td>38.31</td>\n",
       "      <td>0.4803</td>\n",
       "      <td>0.1988</td>\n",
       "      <td>0.3210</td>\n",
       "      <td>2.0</td>\n",
       "      <td>0.0</td>\n",
       "    </tr>\n",
       "    <tr>\n",
       "      <th>21607</th>\n",
       "      <td>2018</td>\n",
       "      <td>2019-06-23</td>\n",
       "      <td>1871</td>\n",
       "      <td>Spanish Segunda Division</td>\n",
       "      <td>Mallorca</td>\n",
       "      <td>Deportivo La Coruña</td>\n",
       "      <td>36.40</td>\n",
       "      <td>43.52</td>\n",
       "      <td>0.3718</td>\n",
       "      <td>0.2920</td>\n",
       "      <td>0.3362</td>\n",
       "      <td>3.0</td>\n",
       "      <td>0.0</td>\n",
       "    </tr>\n",
       "  </tbody>\n",
       "</table>\n",
       "<p>21608 rows × 13 columns</p>\n",
       "</div>"
      ],
      "text/plain": [
       "       season        date  league_id                    league  \\\n",
       "0        2016  2016-07-09       7921   FA Women's Super League   \n",
       "1        2016  2016-07-10       7921   FA Women's Super League   \n",
       "2        2016  2016-07-10       7921   FA Women's Super League   \n",
       "3        2016  2016-07-16       7921   FA Women's Super League   \n",
       "4        2016  2016-07-17       7921   FA Women's Super League   \n",
       "...       ...         ...        ...                       ...   \n",
       "21603    2018  2019-06-13       1871  Spanish Segunda Division   \n",
       "21604    2018  2019-06-15       1871  Spanish Segunda Division   \n",
       "21605    2018  2019-06-16       1871  Spanish Segunda Division   \n",
       "21606    2018  2019-06-20       1871  Spanish Segunda Division   \n",
       "21607    2018  2019-06-23       1871  Spanish Segunda Division   \n",
       "\n",
       "                     team1                team2  spi_homeTeam  spi_awayTeam  \\\n",
       "0          Liverpool Women              Reading         51.56         50.42   \n",
       "1            Arsenal Women  Notts County Ladies         46.61         54.03   \n",
       "2         Chelsea FC Women      Birmingham City         59.85         54.64   \n",
       "3          Liverpool Women  Notts County Ladies         53.00         52.35   \n",
       "4         Chelsea FC Women        Arsenal Women         59.43         60.99   \n",
       "...                    ...                  ...           ...           ...   \n",
       "21603             Mallorca             Albacete         37.68         34.35   \n",
       "21604               Málaga  Deportivo La Coruña         36.60         39.91   \n",
       "21605             Albacete             Mallorca         32.57         39.48   \n",
       "21606  Deportivo La Coruña             Mallorca         41.55         38.31   \n",
       "21607             Mallorca  Deportivo La Coruña         36.40         43.52   \n",
       "\n",
       "        prob1   prob2  probtie  score_homeTeam  score_awayTeam  \n",
       "0      0.4389  0.2767   0.2844             2.0             0.0  \n",
       "1      0.3572  0.3608   0.2819             2.0             0.0  \n",
       "2      0.4799  0.2487   0.2714             1.0             1.0  \n",
       "3      0.4289  0.2699   0.3013             0.0             0.0  \n",
       "4      0.4124  0.3157   0.2719             1.0             2.0  \n",
       "...       ...     ...      ...             ...             ...  \n",
       "21603  0.4861  0.2099   0.3040             2.0             0.0  \n",
       "21604  0.4131  0.2548   0.3321             0.0             1.0  \n",
       "21605  0.3764  0.3034   0.3202             1.0             0.0  \n",
       "21606  0.4803  0.1988   0.3210             2.0             0.0  \n",
       "21607  0.3718  0.2920   0.3362             3.0             0.0  \n",
       "\n",
       "[21608 rows x 13 columns]"
      ]
     },
     "execution_count": 2,
     "metadata": {},
     "output_type": "execute_result"
    }
   ],
   "source": [
    "from Scripts import project_functions # This is called a relative import\n",
    "df = project_functions.load_and_process(\"../data/raw/spi_matches.csv\")\n",
    "df"
   ]
  },
  {
   "cell_type": "code",
   "execution_count": 3,
   "metadata": {},
   "outputs": [],
   "source": [
    "## Start of EDA"
   ]
  },
  {
   "cell_type": "code",
   "execution_count": 4,
   "metadata": {},
   "outputs": [
    {
     "data": {
      "text/html": [
       "<div>\n",
       "<style scoped>\n",
       "    .dataframe tbody tr th:only-of-type {\n",
       "        vertical-align: middle;\n",
       "    }\n",
       "\n",
       "    .dataframe tbody tr th {\n",
       "        vertical-align: top;\n",
       "    }\n",
       "\n",
       "    .dataframe thead th {\n",
       "        text-align: right;\n",
       "    }\n",
       "</style>\n",
       "<table border=\"1\" class=\"dataframe\">\n",
       "  <thead>\n",
       "    <tr style=\"text-align: right;\">\n",
       "      <th></th>\n",
       "      <th>season</th>\n",
       "      <th>date</th>\n",
       "      <th>league_id</th>\n",
       "      <th>league</th>\n",
       "      <th>team1</th>\n",
       "      <th>team2</th>\n",
       "      <th>spi_homeTeam</th>\n",
       "      <th>spi_awayTeam</th>\n",
       "      <th>prob1</th>\n",
       "      <th>prob2</th>\n",
       "      <th>probtie</th>\n",
       "      <th>score_homeTeam</th>\n",
       "      <th>score_awayTeam</th>\n",
       "    </tr>\n",
       "  </thead>\n",
       "  <tbody>\n",
       "    <tr>\n",
       "      <th>0</th>\n",
       "      <td>2016</td>\n",
       "      <td>2016-07-09</td>\n",
       "      <td>7921</td>\n",
       "      <td>FA Women's Super League</td>\n",
       "      <td>Liverpool Women</td>\n",
       "      <td>Reading</td>\n",
       "      <td>51.56</td>\n",
       "      <td>50.42</td>\n",
       "      <td>0.4389</td>\n",
       "      <td>0.2767</td>\n",
       "      <td>0.2844</td>\n",
       "      <td>2.0</td>\n",
       "      <td>0.0</td>\n",
       "    </tr>\n",
       "    <tr>\n",
       "      <th>1</th>\n",
       "      <td>2016</td>\n",
       "      <td>2016-07-10</td>\n",
       "      <td>7921</td>\n",
       "      <td>FA Women's Super League</td>\n",
       "      <td>Arsenal Women</td>\n",
       "      <td>Notts County Ladies</td>\n",
       "      <td>46.61</td>\n",
       "      <td>54.03</td>\n",
       "      <td>0.3572</td>\n",
       "      <td>0.3608</td>\n",
       "      <td>0.2819</td>\n",
       "      <td>2.0</td>\n",
       "      <td>0.0</td>\n",
       "    </tr>\n",
       "    <tr>\n",
       "      <th>2</th>\n",
       "      <td>2016</td>\n",
       "      <td>2016-07-10</td>\n",
       "      <td>7921</td>\n",
       "      <td>FA Women's Super League</td>\n",
       "      <td>Chelsea FC Women</td>\n",
       "      <td>Birmingham City</td>\n",
       "      <td>59.85</td>\n",
       "      <td>54.64</td>\n",
       "      <td>0.4799</td>\n",
       "      <td>0.2487</td>\n",
       "      <td>0.2714</td>\n",
       "      <td>1.0</td>\n",
       "      <td>1.0</td>\n",
       "    </tr>\n",
       "    <tr>\n",
       "      <th>3</th>\n",
       "      <td>2016</td>\n",
       "      <td>2016-07-16</td>\n",
       "      <td>7921</td>\n",
       "      <td>FA Women's Super League</td>\n",
       "      <td>Liverpool Women</td>\n",
       "      <td>Notts County Ladies</td>\n",
       "      <td>53.00</td>\n",
       "      <td>52.35</td>\n",
       "      <td>0.4289</td>\n",
       "      <td>0.2699</td>\n",
       "      <td>0.3013</td>\n",
       "      <td>0.0</td>\n",
       "      <td>0.0</td>\n",
       "    </tr>\n",
       "    <tr>\n",
       "      <th>4</th>\n",
       "      <td>2016</td>\n",
       "      <td>2016-07-17</td>\n",
       "      <td>7921</td>\n",
       "      <td>FA Women's Super League</td>\n",
       "      <td>Chelsea FC Women</td>\n",
       "      <td>Arsenal Women</td>\n",
       "      <td>59.43</td>\n",
       "      <td>60.99</td>\n",
       "      <td>0.4124</td>\n",
       "      <td>0.3157</td>\n",
       "      <td>0.2719</td>\n",
       "      <td>1.0</td>\n",
       "      <td>2.0</td>\n",
       "    </tr>\n",
       "  </tbody>\n",
       "</table>\n",
       "</div>"
      ],
      "text/plain": [
       "   season        date  league_id                   league             team1  \\\n",
       "0    2016  2016-07-09       7921  FA Women's Super League   Liverpool Women   \n",
       "1    2016  2016-07-10       7921  FA Women's Super League     Arsenal Women   \n",
       "2    2016  2016-07-10       7921  FA Women's Super League  Chelsea FC Women   \n",
       "3    2016  2016-07-16       7921  FA Women's Super League   Liverpool Women   \n",
       "4    2016  2016-07-17       7921  FA Women's Super League  Chelsea FC Women   \n",
       "\n",
       "                 team2  spi_homeTeam  spi_awayTeam   prob1   prob2  probtie  \\\n",
       "0              Reading         51.56         50.42  0.4389  0.2767   0.2844   \n",
       "1  Notts County Ladies         46.61         54.03  0.3572  0.3608   0.2819   \n",
       "2      Birmingham City         59.85         54.64  0.4799  0.2487   0.2714   \n",
       "3  Notts County Ladies         53.00         52.35  0.4289  0.2699   0.3013   \n",
       "4        Arsenal Women         59.43         60.99  0.4124  0.3157   0.2719   \n",
       "\n",
       "   score_homeTeam  score_awayTeam  \n",
       "0             2.0             0.0  \n",
       "1             2.0             0.0  \n",
       "2             1.0             1.0  \n",
       "3             0.0             0.0  \n",
       "4             1.0             2.0  "
      ]
     },
     "execution_count": 4,
     "metadata": {},
     "output_type": "execute_result"
    }
   ],
   "source": [
    "df.head()"
   ]
  },
  {
   "cell_type": "code",
   "execution_count": 5,
   "metadata": {},
   "outputs": [
    {
     "data": {
      "text/plain": [
       "Index(['season', 'date', 'league_id', 'league', 'team1', 'team2',\n",
       "       'spi_homeTeam', 'spi_awayTeam', 'prob1', 'prob2', 'probtie',\n",
       "       'score_homeTeam', 'score_awayTeam'],\n",
       "      dtype='object')"
      ]
     },
     "execution_count": 5,
     "metadata": {},
     "output_type": "execute_result"
    }
   ],
   "source": [
    "df.columns"
   ]
  },
  {
   "cell_type": "code",
   "execution_count": 6,
   "metadata": {},
   "outputs": [
    {
     "data": {
      "text/plain": [
       "(21608, 13)"
      ]
     },
     "execution_count": 6,
     "metadata": {},
     "output_type": "execute_result"
    }
   ],
   "source": [
    "df.shape"
   ]
  },
  {
   "cell_type": "code",
   "execution_count": 7,
   "metadata": {},
   "outputs": [
    {
     "data": {
      "text/plain": [
       "season               3\n",
       "date               913\n",
       "league_id           38\n",
       "league              38\n",
       "team1              708\n",
       "team2              708\n",
       "spi_homeTeam      7170\n",
       "spi_awayTeam      7197\n",
       "prob1             6600\n",
       "prob2             5919\n",
       "probtie           2606\n",
       "score_homeTeam      11\n",
       "score_awayTeam       9\n",
       "dtype: int64"
      ]
     },
     "execution_count": 7,
     "metadata": {},
     "output_type": "execute_result"
    }
   ],
   "source": [
    "df.nunique(axis = 0)"
   ]
  },
  {
   "cell_type": "code",
   "execution_count": 8,
   "metadata": {},
   "outputs": [
    {
     "data": {
      "text/html": [
       "<div>\n",
       "<style scoped>\n",
       "    .dataframe tbody tr th:only-of-type {\n",
       "        vertical-align: middle;\n",
       "    }\n",
       "\n",
       "    .dataframe tbody tr th {\n",
       "        vertical-align: top;\n",
       "    }\n",
       "\n",
       "    .dataframe thead th {\n",
       "        text-align: right;\n",
       "    }\n",
       "</style>\n",
       "<table border=\"1\" class=\"dataframe\">\n",
       "  <thead>\n",
       "    <tr style=\"text-align: right;\">\n",
       "      <th></th>\n",
       "      <th>season</th>\n",
       "      <th>league_id</th>\n",
       "      <th>spi_homeTeam</th>\n",
       "      <th>spi_awayTeam</th>\n",
       "      <th>prob1</th>\n",
       "      <th>prob2</th>\n",
       "      <th>probtie</th>\n",
       "      <th>score_homeTeam</th>\n",
       "      <th>score_awayTeam</th>\n",
       "    </tr>\n",
       "  </thead>\n",
       "  <tbody>\n",
       "    <tr>\n",
       "      <th>count</th>\n",
       "      <td>21608.000000</td>\n",
       "      <td>21608.000000</td>\n",
       "      <td>21608.000000</td>\n",
       "      <td>21608.000000</td>\n",
       "      <td>21608.000000</td>\n",
       "      <td>21608.000000</td>\n",
       "      <td>21608.000000</td>\n",
       "      <td>21608.000000</td>\n",
       "      <td>21608.000000</td>\n",
       "    </tr>\n",
       "    <tr>\n",
       "      <th>mean</th>\n",
       "      <td>2017.420354</td>\n",
       "      <td>2191.487829</td>\n",
       "      <td>46.692403</td>\n",
       "      <td>46.669301</td>\n",
       "      <td>0.451937</td>\n",
       "      <td>0.293348</td>\n",
       "      <td>0.254715</td>\n",
       "      <td>1.527953</td>\n",
       "      <td>1.166327</td>\n",
       "    </tr>\n",
       "    <tr>\n",
       "      <th>std</th>\n",
       "      <td>0.664714</td>\n",
       "      <td>918.069046</td>\n",
       "      <td>18.584678</td>\n",
       "      <td>18.592717</td>\n",
       "      <td>0.160741</td>\n",
       "      <td>0.144524</td>\n",
       "      <td>0.048828</td>\n",
       "      <td>1.280474</td>\n",
       "      <td>1.142793</td>\n",
       "    </tr>\n",
       "    <tr>\n",
       "      <th>min</th>\n",
       "      <td>2016.000000</td>\n",
       "      <td>1818.000000</td>\n",
       "      <td>4.470000</td>\n",
       "      <td>4.410000</td>\n",
       "      <td>0.027100</td>\n",
       "      <td>0.003200</td>\n",
       "      <td>0.000000</td>\n",
       "      <td>0.000000</td>\n",
       "      <td>0.000000</td>\n",
       "    </tr>\n",
       "    <tr>\n",
       "      <th>25%</th>\n",
       "      <td>2017.000000</td>\n",
       "      <td>1849.000000</td>\n",
       "      <td>33.310000</td>\n",
       "      <td>33.350000</td>\n",
       "      <td>0.351800</td>\n",
       "      <td>0.199400</td>\n",
       "      <td>0.236100</td>\n",
       "      <td>1.000000</td>\n",
       "      <td>0.000000</td>\n",
       "    </tr>\n",
       "    <tr>\n",
       "      <th>50%</th>\n",
       "      <td>2018.000000</td>\n",
       "      <td>1871.000000</td>\n",
       "      <td>44.460000</td>\n",
       "      <td>44.355000</td>\n",
       "      <td>0.443000</td>\n",
       "      <td>0.277800</td>\n",
       "      <td>0.262900</td>\n",
       "      <td>1.000000</td>\n",
       "      <td>1.000000</td>\n",
       "    </tr>\n",
       "    <tr>\n",
       "      <th>75%</th>\n",
       "      <td>2018.000000</td>\n",
       "      <td>2160.000000</td>\n",
       "      <td>59.472500</td>\n",
       "      <td>59.475000</td>\n",
       "      <td>0.540800</td>\n",
       "      <td>0.366425</td>\n",
       "      <td>0.284400</td>\n",
       "      <td>2.000000</td>\n",
       "      <td>2.000000</td>\n",
       "    </tr>\n",
       "    <tr>\n",
       "      <th>max</th>\n",
       "      <td>2018.000000</td>\n",
       "      <td>7921.000000</td>\n",
       "      <td>96.570000</td>\n",
       "      <td>96.780000</td>\n",
       "      <td>0.977500</td>\n",
       "      <td>0.899200</td>\n",
       "      <td>0.453700</td>\n",
       "      <td>10.000000</td>\n",
       "      <td>8.000000</td>\n",
       "    </tr>\n",
       "  </tbody>\n",
       "</table>\n",
       "</div>"
      ],
      "text/plain": [
       "             season     league_id  spi_homeTeam  spi_awayTeam         prob1  \\\n",
       "count  21608.000000  21608.000000  21608.000000  21608.000000  21608.000000   \n",
       "mean    2017.420354   2191.487829     46.692403     46.669301      0.451937   \n",
       "std        0.664714    918.069046     18.584678     18.592717      0.160741   \n",
       "min     2016.000000   1818.000000      4.470000      4.410000      0.027100   \n",
       "25%     2017.000000   1849.000000     33.310000     33.350000      0.351800   \n",
       "50%     2018.000000   1871.000000     44.460000     44.355000      0.443000   \n",
       "75%     2018.000000   2160.000000     59.472500     59.475000      0.540800   \n",
       "max     2018.000000   7921.000000     96.570000     96.780000      0.977500   \n",
       "\n",
       "              prob2       probtie  score_homeTeam  score_awayTeam  \n",
       "count  21608.000000  21608.000000    21608.000000    21608.000000  \n",
       "mean       0.293348      0.254715        1.527953        1.166327  \n",
       "std        0.144524      0.048828        1.280474        1.142793  \n",
       "min        0.003200      0.000000        0.000000        0.000000  \n",
       "25%        0.199400      0.236100        1.000000        0.000000  \n",
       "50%        0.277800      0.262900        1.000000        1.000000  \n",
       "75%        0.366425      0.284400        2.000000        2.000000  \n",
       "max        0.899200      0.453700       10.000000        8.000000  "
      ]
     },
     "execution_count": 8,
     "metadata": {},
     "output_type": "execute_result"
    }
   ],
   "source": [
    "df.describe()"
   ]
  },
  {
   "cell_type": "code",
   "execution_count": 18,
   "metadata": {},
   "outputs": [
    {
     "data": {
      "text/html": [
       "<div>\n",
       "<style scoped>\n",
       "    .dataframe tbody tr th:only-of-type {\n",
       "        vertical-align: middle;\n",
       "    }\n",
       "\n",
       "    .dataframe tbody tr th {\n",
       "        vertical-align: top;\n",
       "    }\n",
       "\n",
       "    .dataframe thead th {\n",
       "        text-align: right;\n",
       "    }\n",
       "</style>\n",
       "<table border=\"1\" class=\"dataframe\">\n",
       "  <thead>\n",
       "    <tr style=\"text-align: right;\">\n",
       "      <th></th>\n",
       "      <th>league_id</th>\n",
       "      <th>spi_homeTeam</th>\n",
       "      <th>spi_awayTeam</th>\n",
       "      <th>prob1</th>\n",
       "      <th>prob2</th>\n",
       "      <th>probtie</th>\n",
       "      <th>score_homeTeam</th>\n",
       "      <th>score_awayTeam</th>\n",
       "    </tr>\n",
       "    <tr>\n",
       "      <th>season</th>\n",
       "      <th></th>\n",
       "      <th></th>\n",
       "      <th></th>\n",
       "      <th></th>\n",
       "      <th></th>\n",
       "      <th></th>\n",
       "      <th></th>\n",
       "      <th></th>\n",
       "    </tr>\n",
       "  </thead>\n",
       "  <tbody>\n",
       "    <tr>\n",
       "      <th>2016</th>\n",
       "      <td>2024.795890</td>\n",
       "      <td>64.176231</td>\n",
       "      <td>64.214666</td>\n",
       "      <td>0.460156</td>\n",
       "      <td>0.290962</td>\n",
       "      <td>0.248881</td>\n",
       "      <td>1.613265</td>\n",
       "      <td>1.203176</td>\n",
       "    </tr>\n",
       "    <tr>\n",
       "      <th>2017</th>\n",
       "      <td>2221.964333</td>\n",
       "      <td>46.913200</td>\n",
       "      <td>46.885223</td>\n",
       "      <td>0.452434</td>\n",
       "      <td>0.289350</td>\n",
       "      <td>0.258216</td>\n",
       "      <td>1.517651</td>\n",
       "      <td>1.159287</td>\n",
       "    </tr>\n",
       "    <tr>\n",
       "      <th>2018</th>\n",
       "      <td>2200.902441</td>\n",
       "      <td>43.195173</td>\n",
       "      <td>43.163913</td>\n",
       "      <td>0.450004</td>\n",
       "      <td>0.296740</td>\n",
       "      <td>0.253256</td>\n",
       "      <td>1.519244</td>\n",
       "      <td>1.164469</td>\n",
       "    </tr>\n",
       "  </tbody>\n",
       "</table>\n",
       "</div>"
      ],
      "text/plain": [
       "          league_id  spi_homeTeam  spi_awayTeam     prob1     prob2   probtie  \\\n",
       "season                                                                          \n",
       "2016    2024.795890     64.176231     64.214666  0.460156  0.290962  0.248881   \n",
       "2017    2221.964333     46.913200     46.885223  0.452434  0.289350  0.258216   \n",
       "2018    2200.902441     43.195173     43.163913  0.450004  0.296740  0.253256   \n",
       "\n",
       "        score_homeTeam  score_awayTeam  \n",
       "season                                  \n",
       "2016          1.613265        1.203176  \n",
       "2017          1.517651        1.159287  \n",
       "2018          1.519244        1.164469  "
      ]
     },
     "execution_count": 18,
     "metadata": {},
     "output_type": "execute_result"
    }
   ],
   "source": [
    "df2 = df.groupby('season').mean()\n",
    "df2"
   ]
  },
  {
   "cell_type": "code",
   "execution_count": 19,
   "metadata": {},
   "outputs": [],
   "source": [
    "#End of EDA"
   ]
  },
  {
   "cell_type": "code",
   "execution_count": 20,
   "metadata": {},
   "outputs": [],
   "source": [
    "# Start of analysis"
   ]
  },
  {
   "cell_type": "code",
   "execution_count": 21,
   "metadata": {},
   "outputs": [],
   "source": [
    "import seaborn as sns\n",
    "import matplotlib as plt"
   ]
  },
  {
   "cell_type": "code",
   "execution_count": 12,
   "metadata": {},
   "outputs": [],
   "source": [
    "#Research question: Does a higher SPI results to a win in a football match"
   ]
  },
  {
   "cell_type": "code",
   "execution_count": 22,
   "metadata": {},
   "outputs": [
    {
     "data": {
      "image/png": "[encoded data removed]",
      "text/plain": [
       "<Figure size 432x288 with 1 Axes>"
      ]
     },
     "metadata": {
      "needs_background": "light"
     },
     "output_type": "display_data"
    }
   ],
   "source": [
    "sns.boxplot(x= 'season', y = 'spi_homeTeam', data = df)\n",
    "sns.set_context('paper', font_scale = 1.5)"
   ]
  },
  {
   "cell_type": "code",
   "execution_count": 23,
   "metadata": {},
   "outputs": [
    {
     "data": {
      "image/png": "[encoded data removed]",
      "text/plain": [
       "<Figure size 432x288 with 1 Axes>"
      ]
     },
     "metadata": {
      "needs_background": "light"
     },
     "output_type": "display_data"
    }
   ],
   "source": [
    "sns.boxplot(x= 'season', y = 'spi_awayTeam', data = df)\n",
    "sns.set_context('paper', font_scale = 1.5)"
   ]
  },
  {
   "cell_type": "code",
   "execution_count": 24,
   "metadata": {},
   "outputs": [
    {
     "data": {
      "image/png": "[encoded data removed]",
      "text/plain": [
       "<Figure size 432x288 with 1 Axes>"
      ]
     },
     "metadata": {
      "needs_background": "light"
     },
     "output_type": "display_data"
    }
   ],
   "source": [
    "sns.boxplot(x= 'season', y = 'score_homeTeam', data = df)\n",
    "sns.set_context('paper', font_scale = 1.5)"
   ]
  },
  {
   "cell_type": "code",
   "execution_count": 25,
   "metadata": {},
   "outputs": [
    {
     "data": {
      "image/png": "[encoded data removed]",
      "text/plain": [
       "<Figure size 432x288 with 1 Axes>"
      ]
     },
     "metadata": {
      "needs_background": "light"
     },
     "output_type": "display_data"
    }
   ],
   "source": [
    "sns.boxplot(x= 'season', y = 'score_awayTeam', data = df)\n",
    "sns.set_context('paper', font_scale = 1.5)"
   ]
  },
  {
   "cell_type": "code",
   "execution_count": 26,
   "metadata": {},
   "outputs": [
    {
     "data": {
      "image/png": "[encoded data removed]",
      "text/plain": [
       "<Figure size 432x288 with 1 Axes>"
      ]
     },
     "metadata": {
      "needs_background": "light"
     },
     "output_type": "display_data"
    }
   ],
   "source": [
    "sns.barplot(x='score_homeTeam', y='spi_homeTeam', hue='season', data = df)\n",
    "sns.set_context('paper', font_scale = 1.5)"
   ]
  },
  {
   "cell_type": "code",
   "execution_count": 27,
   "metadata": {},
   "outputs": [
    {
     "data": {
      "image/png": "[encoded data removed]",
      "text/plain": [
       "<Figure size 432x288 with 1 Axes>"
      ]
     },
     "metadata": {
      "needs_background": "light"
     },
     "output_type": "display_data"
    }
   ],
   "source": [
    "sns.barplot(x='score_awayTeam', y='spi_awayTeam', hue= \"season\", data = df)\n",
    "sns.set_context('paper', font_scale = 1.5)"
   ]
  },
  {
   "cell_type": "code",
   "execution_count": 28,
   "metadata": {},
   "outputs": [
    {
     "data": {
      "text/plain": [
       "<matplotlib.axes._subplots.AxesSubplot at 0x145492d00>"
      ]
     },
     "execution_count": 28,
     "metadata": {},
     "output_type": "execute_result"
    },
    {
     "data": {
      "image/png": "[encoded data removed]",
      "text/plain": [
       "<Figure size 432x288 with 1 Axes>"
      ]
     },
     "metadata": {
      "needs_background": "light"
     },
     "output_type": "display_data"
    }
   ],
   "source": [
    "sns.stripplot(x='season',y='score_homeTeam', data = df, dodge = True, jitter = True)"
   ]
  },
  {
   "cell_type": "code",
   "execution_count": 49,
   "metadata": {},
   "outputs": [
    {
     "data": {
      "text/plain": [
       "<matplotlib.axes._subplots.AxesSubplot at 0x1368c23a0>"
      ]
     },
     "execution_count": 49,
     "metadata": {},
     "output_type": "execute_result"
    },
    {
     "data": {
      "image/png": "[encoded data removed]",
      "text/plain": [
       "<Figure size 432x288 with 1 Axes>"
      ]
     },
     "metadata": {
      "needs_background": "light"
     },
     "output_type": "display_data"
    }
   ],
   "source": [
    "sns.stripplot(x='season',y='score_awayTeam', data = df, dodge = True, jitter = True)"
   ]
  },
  {
   "cell_type": "code",
   "execution_count": 29,
   "metadata": {},
   "outputs": [],
   "source": [
    "df.to_csv('new_spi_matches2.csv', index = False)"
   ]
  },
  {
   "cell_type": "code",
   "execution_count": null,
   "metadata": {},
   "outputs": [],
   "source": []
  }
 ],
 "metadata": {
  "kernelspec": {
   "display_name": "Python 3",
   "language": "python",
   "name": "python3"
  },
  "language_info": {
   "codemirror_mode": {
    "name": "ipython",
    "version": 3
   },
   "file_extension": ".py",
   "mimetype": "text/x-python",
   "name": "python",
   "nbconvert_exporter": "python",
   "pygments_lexer": "ipython3",
   "version": "3.8.3"
  }
 },
 "nbformat": 4,
 "nbformat_minor": 4
}
